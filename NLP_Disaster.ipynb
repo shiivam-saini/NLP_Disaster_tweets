{
  "metadata": {
    "kernelspec": {
      "language": "python",
      "display_name": "Python 3",
      "name": "python3"
    },
    "language_info": {
      "name": "python",
      "version": "3.10.13",
      "mimetype": "text/x-python",
      "codemirror_mode": {
        "name": "ipython",
        "version": 3
      },
      "pygments_lexer": "ipython3",
      "nbconvert_exporter": "python",
      "file_extension": ".py"
    },
    "kaggle": {
      "accelerator": "nvidiaTeslaT4",
      "dataSources": [
        {
          "sourceId": 17777,
          "databundleVersionId": 869809,
          "sourceType": "competition"
        },
        {
          "sourceId": 6068,
          "sourceType": "modelInstanceVersion",
          "modelInstanceId": 4689
        }
      ],
      "dockerImageVersionId": 30648,
      "isInternetEnabled": true,
      "language": "python",
      "sourceType": "notebook",
      "isGpuEnabled": true
    },
    "colab": {
      "name": "NLP_Disaster",
      "provenance": []
    }
  },
  "nbformat_minor": 0,
  "nbformat": 4,
  "cells": [
    {
      "source": [
        "\n",
        "# IMPORTANT: RUN THIS CELL IN ORDER TO IMPORT YOUR KAGGLE DATA SOURCES\n",
        "# TO THE CORRECT LOCATION (/kaggle/input) IN YOUR NOTEBOOK,\n",
        "# THEN FEEL FREE TO DELETE THIS CELL.\n",
        "# NOTE: THIS NOTEBOOK ENVIRONMENT DIFFERS FROM KAGGLE'S PYTHON\n",
        "# ENVIRONMENT SO THERE MAY BE MISSING LIBRARIES USED BY YOUR\n",
        "# NOTEBOOK.\n",
        "\n",
        "import os\n",
        "import sys\n",
        "from tempfile import NamedTemporaryFile\n",
        "from urllib.request import urlopen\n",
        "from urllib.parse import unquote, urlparse\n",
        "from urllib.error import HTTPError\n",
        "from zipfile import ZipFile\n",
        "import tarfile\n",
        "import shutil\n",
        "\n",
        "CHUNK_SIZE = 40960\n",
        "DATA_SOURCE_MAPPING = 'nlp-getting-started:https%3A%2F%2Fstorage.googleapis.com%2Fkaggle-competitions-data%2Fkaggle-v2%2F17777%2F869809%2Fbundle%2Farchive.zip%3FX-Goog-Algorithm%3DGOOG4-RSA-SHA256%26X-Goog-Credential%3Dgcp-kaggle-com%2540kaggle-161607.iam.gserviceaccount.com%252F20240318%252Fauto%252Fstorage%252Fgoog4_request%26X-Goog-Date%3D20240318T201711Z%26X-Goog-Expires%3D259200%26X-Goog-SignedHeaders%3Dhost%26X-Goog-Signature%3D1e1dae07e6c356803660d8429337abd77779cce49b3d53f26a507590f068622c12e551da37b3a45895a70eeecf2ab6be6745242210faedad671ffd78e9704e25a211926f78a224c21753bd8b4f17ea46bde7e11f4fde0649c7ce2ef87619fd903d9ff8f2aa1385e97d8b434a661b54addbfdddcffe9f354f9fef15b02c6ae331efadbc39bed93c4a5b715476d9b69eeeab01e39e8de744221675f9eba58f622f9e4181baf410c9a34c771066f5222f51981a12afc729fca9325e72d954af87dc48cfd0f809578959ecb223729d09112251cfa488948e68574053c3415d5bb7e596c8f14cd22b1fe4e5dc3a0c6ebf8d5a3a2fc8a72cb6e5d48437f709430f163e,distil_bert/keras/distil_bert_base_en_uncased/2:https%3A%2F%2Fstorage.googleapis.com%2Fkaggle-models-data%2F4689%2F6068%2Fbundle%2Farchive.tar.gz%3FX-Goog-Algorithm%3DGOOG4-RSA-SHA256%26X-Goog-Credential%3Dgcp-kaggle-com%2540kaggle-161607.iam.gserviceaccount.com%252F20240318%252Fauto%252Fstorage%252Fgoog4_request%26X-Goog-Date%3D20240318T201711Z%26X-Goog-Expires%3D259200%26X-Goog-SignedHeaders%3Dhost%26X-Goog-Signature%3D6159248b8c57eac44923e500d624f5d5ab8ef4b4c85eb049d1999748b360a46d666872262b26ebb56f58f108f338afe2d3d4484f72cf69455bd5978d58df0ae74f501b63d73ac2465456fcfeea2d289a20073f6ccb9ed599d6207cd0a46de9491295cca406218432cdebc5e76e68d9d4f35f95e3176476ee5e2b884076aee97e338068049b1f0f3041cffb439da384388dd42c5bfc318cfbcc83d3112e441cf197be71d9b4684486cbac3265f35f0c78342e3a25d1e697a7bc613b43654f2a41ed6c02dbaf5b410781df3c6c039928234e2680df2b1f5133a285d0114d52741a8feee1270ccb7ef195f2ee29c0b402e52344f2bd253fdf4c9e1d4e4d1d972b8f'\n",
        "\n",
        "KAGGLE_INPUT_PATH='/kaggle/input'\n",
        "KAGGLE_WORKING_PATH='/kaggle/working'\n",
        "KAGGLE_SYMLINK='kaggle'\n",
        "\n",
        "!umount /kaggle/input/ 2> /dev/null\n",
        "shutil.rmtree('/kaggle/input', ignore_errors=True)\n",
        "os.makedirs(KAGGLE_INPUT_PATH, 0o777, exist_ok=True)\n",
        "os.makedirs(KAGGLE_WORKING_PATH, 0o777, exist_ok=True)\n",
        "\n",
        "try:\n",
        "  os.symlink(KAGGLE_INPUT_PATH, os.path.join(\"..\", 'input'), target_is_directory=True)\n",
        "except FileExistsError:\n",
        "  pass\n",
        "try:\n",
        "  os.symlink(KAGGLE_WORKING_PATH, os.path.join(\"..\", 'working'), target_is_directory=True)\n",
        "except FileExistsError:\n",
        "  pass\n",
        "\n",
        "for data_source_mapping in DATA_SOURCE_MAPPING.split(','):\n",
        "    directory, download_url_encoded = data_source_mapping.split(':')\n",
        "    download_url = unquote(download_url_encoded)\n",
        "    filename = urlparse(download_url).path\n",
        "    destination_path = os.path.join(KAGGLE_INPUT_PATH, directory)\n",
        "    try:\n",
        "        with urlopen(download_url) as fileres, NamedTemporaryFile() as tfile:\n",
        "            total_length = fileres.headers['content-length']\n",
        "            print(f'Downloading {directory}, {total_length} bytes compressed')\n",
        "            dl = 0\n",
        "            data = fileres.read(CHUNK_SIZE)\n",
        "            while len(data) > 0:\n",
        "                dl += len(data)\n",
        "                tfile.write(data)\n",
        "                done = int(50 * dl / int(total_length))\n",
        "                sys.stdout.write(f\"\\r[{'=' * done}{' ' * (50-done)}] {dl} bytes downloaded\")\n",
        "                sys.stdout.flush()\n",
        "                data = fileres.read(CHUNK_SIZE)\n",
        "            if filename.endswith('.zip'):\n",
        "              with ZipFile(tfile) as zfile:\n",
        "                zfile.extractall(destination_path)\n",
        "            else:\n",
        "              with tarfile.open(tfile.name) as tarfile:\n",
        "                tarfile.extractall(destination_path)\n",
        "            print(f'\\nDownloaded and uncompressed: {directory}')\n",
        "    except HTTPError as e:\n",
        "        print(f'Failed to load (likely expired) {download_url} to path {destination_path}')\n",
        "        continue\n",
        "    except OSError as e:\n",
        "        print(f'Failed to load {download_url} to path {destination_path}')\n",
        "        continue\n",
        "\n",
        "print('Data source import complete.')\n"
      ],
      "metadata": {
        "id": "ITJ7ein7Ng19",
        "outputId": "520c5d6b-a4c5-457e-9e82-7fbae6ba35e6",
        "colab": {
          "base_uri": "https://localhost:8080/"
        }
      },
      "cell_type": "code",
      "outputs": [
        {
          "output_type": "stream",
          "name": "stdout",
          "text": [
            "Downloading nlp-getting-started, 607343 bytes compressed\n",
            "[==================================================] 607343 bytes downloaded\n",
            "Downloaded and uncompressed: nlp-getting-started\n",
            "Downloading distil_bert/keras/distil_bert_base_en_uncased/2, 245289341 bytes compressed\n",
            "[==================================================] 245289341 bytes downloaded\n",
            "Downloaded and uncompressed: distil_bert/keras/distil_bert_base_en_uncased/2\n",
            "Data source import complete.\n"
          ]
        }
      ],
      "execution_count": 1
    },
    {
      "cell_type": "code",
      "source": [
        "# This Python 3 environment comes with many helpful analytics libraries installed\n",
        "# It is defined by the kaggle/python Docker image: https://github.com/kaggle/docker-python\n",
        "# For example, here's several helpful packages to load\n",
        "\n",
        "import numpy as np # linear algebra\n",
        "import pandas as pd # data processing, CSV file I/O (e.g. pd.read_csv)\n",
        "\n",
        "# Input data files are available in the read-only \"../input/\" directory\n",
        "# For example, running this (by clicking run or pressing Shift+Enter) will list all files under the input directory\n",
        "\n",
        "import os\n",
        "for dirname, _, filenames in os.walk('/kaggle/input'):\n",
        "    for filename in filenames:\n",
        "        print(os.path.join(dirname, filename))\n",
        "\n",
        "# You can write up to 20GB to the current directory (/kaggle/working/) that gets preserved as output when you create a version using \"Save & Run All\"\n",
        "# You can also write temporary files to /kaggle/temp/, but they won't be saved outside of the current session"
      ],
      "metadata": {
        "_uuid": "8f2839f25d086af736a60e9eeb907d3b93b6e0e5",
        "_cell_guid": "b1076dfc-b9ad-4769-8c92-a6c4dae69d19",
        "execution": {
          "iopub.status.busy": "2024-02-21T08:14:09.9348Z",
          "iopub.execute_input": "2024-02-21T08:14:09.935432Z",
          "iopub.status.idle": "2024-02-21T08:14:09.952058Z",
          "shell.execute_reply.started": "2024-02-21T08:14:09.935386Z",
          "shell.execute_reply": "2024-02-21T08:14:09.950997Z"
        },
        "trusted": true,
        "id": "aU-Ad6YLNg2A"
      },
      "execution_count": null,
      "outputs": []
    },
    {
      "cell_type": "code",
      "source": [
        "!pip install keras-core --upgrade\n",
        "!pip install keras-nlp --upgrade"
      ],
      "metadata": {
        "execution": {
          "iopub.status.busy": "2024-02-21T08:14:09.953509Z",
          "iopub.execute_input": "2024-02-21T08:14:09.954015Z",
          "iopub.status.idle": "2024-02-21T08:14:34.510944Z",
          "shell.execute_reply.started": "2024-02-21T08:14:09.95399Z",
          "shell.execute_reply": "2024-02-21T08:14:34.509711Z"
        },
        "trusted": true,
        "id": "sxMFMxRmNg2B"
      },
      "execution_count": null,
      "outputs": []
    },
    {
      "cell_type": "code",
      "source": [
        "import tensorflow as tf\n",
        "from sklearn.metrics import confusion_matrix,ConfusionMatrixDisplay\n",
        "from sklearn.model_selection import train_test_split\n",
        "import keras_nlp\n",
        "import matplotlib.pyplot as plt\n",
        "import keras_core as keras\n",
        "import seaborn as sns\n",
        "from keras.optimizers import Adam\n"
      ],
      "metadata": {
        "execution": {
          "iopub.status.busy": "2024-02-21T08:14:34.513324Z",
          "iopub.execute_input": "2024-02-21T08:14:34.51369Z",
          "iopub.status.idle": "2024-02-21T08:14:34.520103Z",
          "shell.execute_reply.started": "2024-02-21T08:14:34.513659Z",
          "shell.execute_reply": "2024-02-21T08:14:34.519136Z"
        },
        "trusted": true,
        "id": "VZlruUxqNg2B"
      },
      "execution_count": null,
      "outputs": []
    },
    {
      "cell_type": "code",
      "source": [
        "train_df=pd.read_csv(\"/kaggle/input/nlp-getting-started/train.csv\")\n",
        "test_df=pd.read_csv(\"/kaggle/input/nlp-getting-started/test.csv\")"
      ],
      "metadata": {
        "execution": {
          "iopub.status.busy": "2024-02-21T08:14:34.521273Z",
          "iopub.execute_input": "2024-02-21T08:14:34.521561Z",
          "iopub.status.idle": "2024-02-21T08:14:34.609065Z",
          "shell.execute_reply.started": "2024-02-21T08:14:34.521537Z",
          "shell.execute_reply": "2024-02-21T08:14:34.60831Z"
        },
        "trusted": true,
        "id": "P5W8_rgsNg2C"
      },
      "execution_count": null,
      "outputs": []
    },
    {
      "cell_type": "code",
      "source": [
        "train_df.head()"
      ],
      "metadata": {
        "execution": {
          "iopub.status.busy": "2024-02-21T08:14:34.611058Z",
          "iopub.execute_input": "2024-02-21T08:14:34.611342Z",
          "iopub.status.idle": "2024-02-21T08:14:34.6226Z",
          "shell.execute_reply.started": "2024-02-21T08:14:34.611317Z",
          "shell.execute_reply": "2024-02-21T08:14:34.621677Z"
        },
        "trusted": true,
        "id": "HVm1AZTlNg2C"
      },
      "execution_count": null,
      "outputs": []
    },
    {
      "cell_type": "code",
      "source": [
        "train_df.describe()"
      ],
      "metadata": {
        "execution": {
          "iopub.status.busy": "2024-02-21T08:14:34.623785Z",
          "iopub.execute_input": "2024-02-21T08:14:34.624115Z",
          "iopub.status.idle": "2024-02-21T08:14:34.642371Z",
          "shell.execute_reply.started": "2024-02-21T08:14:34.624083Z",
          "shell.execute_reply": "2024-02-21T08:14:34.641433Z"
        },
        "trusted": true,
        "id": "EKsOBzUVNg2C"
      },
      "execution_count": null,
      "outputs": []
    },
    {
      "cell_type": "code",
      "source": [
        "test_df.head()"
      ],
      "metadata": {
        "execution": {
          "iopub.status.busy": "2024-02-21T08:14:34.643697Z",
          "iopub.execute_input": "2024-02-21T08:14:34.644281Z",
          "iopub.status.idle": "2024-02-21T08:14:34.653234Z",
          "shell.execute_reply.started": "2024-02-21T08:14:34.644248Z",
          "shell.execute_reply": "2024-02-21T08:14:34.652486Z"
        },
        "trusted": true,
        "id": "n09kUHqwNg2C"
      },
      "execution_count": null,
      "outputs": []
    },
    {
      "cell_type": "code",
      "source": [
        "train_df[\"length\"]=train_df[\"text\"].apply( lambda x:len(x))\n",
        "test_df[\"length\"]=test_df[\"text\"].apply( lambda x:len(x))"
      ],
      "metadata": {
        "execution": {
          "iopub.status.busy": "2024-02-21T08:14:34.654686Z",
          "iopub.execute_input": "2024-02-21T08:14:34.6553Z",
          "iopub.status.idle": "2024-02-21T08:14:34.673171Z",
          "shell.execute_reply.started": "2024-02-21T08:14:34.655268Z",
          "shell.execute_reply": "2024-02-21T08:14:34.67225Z"
        },
        "trusted": true,
        "id": "1psEKjddNg2D"
      },
      "execution_count": null,
      "outputs": []
    },
    {
      "cell_type": "code",
      "source": [
        "train_df[\"length\"]"
      ],
      "metadata": {
        "execution": {
          "iopub.status.busy": "2024-02-21T08:14:34.674427Z",
          "iopub.execute_input": "2024-02-21T08:14:34.674994Z",
          "iopub.status.idle": "2024-02-21T08:14:34.686243Z",
          "shell.execute_reply.started": "2024-02-21T08:14:34.674962Z",
          "shell.execute_reply": "2024-02-21T08:14:34.685482Z"
        },
        "trusted": true,
        "id": "ZI19jt8mNg2D"
      },
      "execution_count": null,
      "outputs": []
    },
    {
      "cell_type": "code",
      "source": [
        "plt.figure(figsize=(10,6))\n",
        "plt.subplot(1,2,1)\n",
        "plt.hist(train_df[\"length\"],bins=50,color='red', edgecolor='black')\n",
        "plt.title('Length of the Training Data')\n",
        "plt.xlabel('Length')\n",
        "plt.ylabel('Frequency')\n",
        "\n",
        "\n",
        "plt.figure(figsize=(10,6))\n",
        "plt.subplot(1,2,2)\n",
        "plt.hist(test_df[\"length\"],bins=50,color='blue', edgecolor='black')\n",
        "plt.title('Length of the Testing  Data')\n",
        "plt.xlabel('Length')\n",
        "plt.ylabel('Frequency')\n",
        "\n",
        "plt.tight_layout()\n",
        "\n",
        "plt.show()"
      ],
      "metadata": {
        "execution": {
          "iopub.status.busy": "2024-02-21T08:14:34.687394Z",
          "iopub.execute_input": "2024-02-21T08:14:34.687683Z",
          "iopub.status.idle": "2024-02-21T08:14:36.35918Z",
          "shell.execute_reply.started": "2024-02-21T08:14:34.68766Z",
          "shell.execute_reply": "2024-02-21T08:14:36.358227Z"
        },
        "trusted": true,
        "id": "LFOA14hHNg2D"
      },
      "execution_count": null,
      "outputs": []
    },
    {
      "cell_type": "code",
      "source": [
        "train_df.shape[0]"
      ],
      "metadata": {
        "execution": {
          "iopub.status.busy": "2024-02-21T08:14:36.362869Z",
          "iopub.execute_input": "2024-02-21T08:14:36.363161Z",
          "iopub.status.idle": "2024-02-21T08:14:36.368965Z",
          "shell.execute_reply.started": "2024-02-21T08:14:36.363129Z",
          "shell.execute_reply": "2024-02-21T08:14:36.367923Z"
        },
        "trusted": true,
        "id": "q6AKbx8wNg2D"
      },
      "execution_count": null,
      "outputs": []
    },
    {
      "cell_type": "code",
      "source": [
        "batch_size=32\n",
        "num_training_examples=train_df.shape[0]\n",
        "train_split=0.8\n",
        "\n",
        "steps=int(num_training_examples)*train_split//batch_size\n",
        "\n",
        "epochs=2\n",
        "auto=tf.data.experimental.AUTOTUNE\n"
      ],
      "metadata": {
        "execution": {
          "iopub.status.busy": "2024-02-21T08:14:36.37036Z",
          "iopub.execute_input": "2024-02-21T08:14:36.370649Z",
          "iopub.status.idle": "2024-02-21T08:14:36.378488Z",
          "shell.execute_reply.started": "2024-02-21T08:14:36.370625Z",
          "shell.execute_reply": "2024-02-21T08:14:36.377778Z"
        },
        "trusted": true,
        "id": "OuShedhNNg2D"
      },
      "execution_count": null,
      "outputs": []
    },
    {
      "cell_type": "code",
      "source": [
        "X=train_df[\"text\"]\n",
        "y=train_df[\"target\"]\n",
        "\n",
        "X_train,X_val,Y_train,Y_val=train_test_split(X,y,test_size=0.2,random_state=42)\n",
        "\n",
        "X_test=test_df[\"text\"]"
      ],
      "metadata": {
        "execution": {
          "iopub.status.busy": "2024-02-21T08:14:36.379393Z",
          "iopub.execute_input": "2024-02-21T08:14:36.379683Z",
          "iopub.status.idle": "2024-02-21T08:14:36.397736Z",
          "shell.execute_reply.started": "2024-02-21T08:14:36.379659Z",
          "shell.execute_reply": "2024-02-21T08:14:36.397012Z"
        },
        "trusted": true,
        "id": "HU1Mhu3fNg2E"
      },
      "execution_count": null,
      "outputs": []
    },
    {
      "cell_type": "code",
      "source": [
        "preset=\"/kaggle/input/distil_bert/keras/distil_bert_base_en_uncased/2\"\n",
        "\n",
        "preprocessor=keras_nlp.models.DistilBertPreprocessor.from_preset(preset,sequence_length=256,name=\"preprocessor_4_tweets\")\n",
        "\n",
        "classifier=keras_nlp.models.DistilBertClassifier.from_preset(preset,preprocessor=preprocessor,num_classes=2)\n",
        "\n",
        "classifier.summary()"
      ],
      "metadata": {
        "execution": {
          "iopub.status.busy": "2024-02-21T08:14:36.39917Z",
          "iopub.execute_input": "2024-02-21T08:14:36.39982Z",
          "iopub.status.idle": "2024-02-21T08:14:41.670787Z",
          "shell.execute_reply.started": "2024-02-21T08:14:36.399763Z",
          "shell.execute_reply": "2024-02-21T08:14:41.66995Z"
        },
        "trusted": true,
        "id": "m65yLJWzNg2E"
      },
      "execution_count": null,
      "outputs": []
    },
    {
      "cell_type": "code",
      "source": [
        "classifier.compile(\n",
        "    loss=keras.losses.SparseCategoricalCrossentropy(from_logits=True), #'binary_crossentropy',\n",
        "    optimizer=Adam(1e-5),\n",
        "    metrics= [\"accuracy\"]\n",
        ")\n",
        "\n",
        "\n",
        "history = classifier.fit(x=X_train,\n",
        "                         y=Y_train,\n",
        "                         batch_size=batch_size,\n",
        "                         epochs=epochs,\n",
        "                         validation_data=(X_val, Y_val)\n",
        "                        )"
      ],
      "metadata": {
        "execution": {
          "iopub.status.busy": "2024-02-21T08:14:41.67174Z",
          "iopub.execute_input": "2024-02-21T08:14:41.671985Z",
          "iopub.status.idle": "2024-02-21T08:20:38.237782Z",
          "shell.execute_reply.started": "2024-02-21T08:14:41.671963Z",
          "shell.execute_reply": "2024-02-21T08:20:38.236973Z"
        },
        "trusted": true,
        "id": "VE1YQv-ENg2E"
      },
      "execution_count": null,
      "outputs": []
    },
    {
      "cell_type": "code",
      "source": [
        "history_data = history.history\n",
        "\n",
        "history_df = pd.DataFrame(history_data)\n",
        "\n",
        "# Plot training and validation accuracy\n",
        "plt.figure(figsize=(10, 5))\n",
        "sns.lineplot(data=history_df[['accuracy', 'val_accuracy']], markers=True)\n",
        "plt.title('Training and Validation Accuracy')\n",
        "plt.xlabel('Epochs')\n",
        "plt.ylabel('Accuracy')\n",
        "plt.legend(['Training', 'Validation'])\n",
        "plt.show()\n",
        "\n",
        "# Plot training and validation loss\n",
        "plt.figure(figsize=(5, 5))\n",
        "sns.lineplot(data=history_df[['loss', 'val_loss']], markers=True)\n",
        "plt.title('Training and Validation Loss')\n",
        "plt.xlabel('Epochs')\n",
        "plt.ylabel('Loss')\n",
        "plt.legend(['Training', 'Validation'])\n",
        "plt.show()"
      ],
      "metadata": {
        "execution": {
          "iopub.status.busy": "2024-02-21T08:20:38.241584Z",
          "iopub.execute_input": "2024-02-21T08:20:38.241887Z",
          "iopub.status.idle": "2024-02-21T08:20:38.740707Z",
          "shell.execute_reply.started": "2024-02-21T08:20:38.241863Z",
          "shell.execute_reply": "2024-02-21T08:20:38.739808Z"
        },
        "trusted": true,
        "id": "36kcEhXJNg2E"
      },
      "execution_count": null,
      "outputs": []
    },
    {
      "cell_type": "code",
      "source": [
        "y_pred_train = classifier.predict(X_train)\n",
        "\n",
        "tn, fp, fn, tp = confusion_matrix(Y_train, np.argmax(y_pred_train, axis=1)).ravel()\n",
        "f1_score = tp / (tp+((fn+fp)/2))"
      ],
      "metadata": {
        "execution": {
          "iopub.status.busy": "2024-02-21T08:20:38.742011Z",
          "iopub.execute_input": "2024-02-21T08:20:38.74269Z",
          "iopub.status.idle": "2024-02-21T08:21:34.899258Z",
          "shell.execute_reply.started": "2024-02-21T08:20:38.742655Z",
          "shell.execute_reply": "2024-02-21T08:21:34.89846Z"
        },
        "trusted": true,
        "id": "6d7z73nGNg2E"
      },
      "execution_count": null,
      "outputs": []
    },
    {
      "cell_type": "code",
      "source": [
        "print(f1_score)"
      ],
      "metadata": {
        "execution": {
          "iopub.status.busy": "2024-02-21T08:21:34.900527Z",
          "iopub.execute_input": "2024-02-21T08:21:34.900866Z",
          "iopub.status.idle": "2024-02-21T08:21:34.905722Z",
          "shell.execute_reply.started": "2024-02-21T08:21:34.900838Z",
          "shell.execute_reply": "2024-02-21T08:21:34.904643Z"
        },
        "trusted": true,
        "id": "-yzcxr9DNg2E"
      },
      "execution_count": null,
      "outputs": []
    },
    {
      "cell_type": "code",
      "source": [
        "sample_df=pd.read_csv(\"/kaggle/input/nlp-getting-started/sample_submission.csv\")"
      ],
      "metadata": {
        "execution": {
          "iopub.status.busy": "2024-02-21T08:21:34.907063Z",
          "iopub.execute_input": "2024-02-21T08:21:34.907404Z",
          "iopub.status.idle": "2024-02-21T08:21:34.939363Z",
          "shell.execute_reply.started": "2024-02-21T08:21:34.907371Z",
          "shell.execute_reply": "2024-02-21T08:21:34.938699Z"
        },
        "trusted": true,
        "id": "ZmI0whMBNg2E"
      },
      "execution_count": null,
      "outputs": []
    },
    {
      "cell_type": "code",
      "source": [
        "sample_df.head()"
      ],
      "metadata": {
        "execution": {
          "iopub.status.busy": "2024-02-21T08:21:34.940471Z",
          "iopub.execute_input": "2024-02-21T08:21:34.941803Z",
          "iopub.status.idle": "2024-02-21T08:21:34.949951Z",
          "shell.execute_reply.started": "2024-02-21T08:21:34.941763Z",
          "shell.execute_reply": "2024-02-21T08:21:34.949104Z"
        },
        "trusted": true,
        "id": "9EddqYBHNg2E"
      },
      "execution_count": null,
      "outputs": []
    },
    {
      "cell_type": "code",
      "source": [
        "sample_df[\"target\"]=np.argmax(classifier.predict(X_test),axis=1)"
      ],
      "metadata": {
        "execution": {
          "iopub.status.busy": "2024-02-21T08:21:34.950965Z",
          "iopub.execute_input": "2024-02-21T08:21:34.951193Z",
          "iopub.status.idle": "2024-02-21T08:22:05.054908Z",
          "shell.execute_reply.started": "2024-02-21T08:21:34.951172Z",
          "shell.execute_reply": "2024-02-21T08:22:05.053944Z"
        },
        "trusted": true,
        "id": "LO1qayD2Ng2E"
      },
      "execution_count": null,
      "outputs": []
    },
    {
      "cell_type": "code",
      "source": [
        "sample_df.to_csv(\"sample_df.csv\",index=False)"
      ],
      "metadata": {
        "execution": {
          "iopub.status.busy": "2024-02-21T08:22:05.056078Z",
          "iopub.execute_input": "2024-02-21T08:22:05.056389Z",
          "iopub.status.idle": "2024-02-21T08:22:05.065506Z",
          "shell.execute_reply.started": "2024-02-21T08:22:05.056363Z",
          "shell.execute_reply": "2024-02-21T08:22:05.064674Z"
        },
        "trusted": true,
        "id": "aRwdZPyNNg2F"
      },
      "execution_count": null,
      "outputs": []
    },
    {
      "cell_type": "code",
      "source": [
        "sample_df.describe()"
      ],
      "metadata": {
        "execution": {
          "iopub.status.busy": "2024-02-21T08:22:05.066669Z",
          "iopub.execute_input": "2024-02-21T08:22:05.066941Z",
          "iopub.status.idle": "2024-02-21T08:22:05.091622Z",
          "shell.execute_reply.started": "2024-02-21T08:22:05.066918Z",
          "shell.execute_reply": "2024-02-21T08:22:05.09075Z"
        },
        "trusted": true,
        "id": "SjTdDy8BNg2F"
      },
      "execution_count": null,
      "outputs": []
    },
    {
      "cell_type": "code",
      "source": [],
      "metadata": {
        "id": "tuTj0PykNg2F"
      },
      "execution_count": null,
      "outputs": []
    }
  ]
}